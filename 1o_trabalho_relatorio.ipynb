{
 "cells": [
  {
   "cell_type": "markdown",
   "id": "35eea1de",
   "metadata": {},
   "source": [
    "# ASSIGNMENT #1: Performance Benchmarking of Cryptographic Mechanisms"
   ]
  },
  {
   "cell_type": "markdown",
   "id": "65560a71",
   "metadata": {},
   "source": [
    "In this assignment we are going to measure the time taken by AES, RSA, and SHA cryptographic operations on files of different sizes using Python implementations. "
   ]
  },
  {
   "cell_type": "markdown",
   "id": "bdfe74ad",
   "metadata": {},
   "source": [
    "### A. Generating the text files"
   ]
  },
  {
   "cell_type": "markdown",
   "id": "97fb2471",
   "metadata": {},
   "source": [
    "First of all, we are going to generate random text files with the following sizes:\n",
    "\n",
    "• For AES (in bytes): 8, 64, 512, 4096, 32768, 262144, 2097152\n",
    "\n",
    "• For SHA (in bytes): 8, 64, 512, 4096, 32768, 262144, 2097152\n",
    "\n",
    "• For RSA (in bytes): 2, 4, 8, 16, 32, 64, 128"
   ]
  },
  {
   "cell_type": "code",
   "execution_count": 68,
   "id": "8d4d1874",
   "metadata": {},
   "outputs": [],
   "source": [
    "# Import the necessary libraries\n",
    "import os\n",
    "import random\n",
    "import string\n",
    "import timeit\n",
    "\n",
    "\n",
    "# Lists containing the names of the files that will be generated\n",
    "files_AES = [\"type_AES__size_8.txt\",\"type_AES__size_64.txt\",\"type_AES__size_512.txt\",\"type_AES__size_4096.txt\",\"type_AES__size_32768.txt\",\"type_AES__size_262144.txt\",\"type_AES__size_2097152.txt\"]\n",
    "files_SHA = [\"type_SHA__size_8.txt\",\"type_SHA__size_64.txt\",\"type_SHA__size_512.txt\",\"type_SHA__size_4096.txt\",\"type_SHA__size_32768.txt\",\"type_SHA__size_262144.txt\",\"type_SHA__size_2097152.txt\"]\n",
    "files_RSA = [\"type_RSA__size_2.txt\",\"type_RSA__size_4.txt\",\"type_RSA__size_8.txt\",\"type_RSA__size_16.txt\",\"type_RSA__size_32.txt\",\"type_RSA__size_64.txt\",\"type_RSA__size_128.txt\"]\n",
    "\n",
    "\n",
    "# Gera uma string aleatória de comprimento length \n",
    "# Random.choice seleciona caracteres aleatórios \n",
    "def generate_text(length):\n",
    "    return ''.join(random.choice(string.ascii_uppercase + string.digits) for _ in range(length))\n",
    "\n",
    "\n",
    "# Gera um arquivo de texto no caminho especificado com o tamanho em bytes fornecido (argumentos da função)\n",
    "# Chama a função generate_text para gerar o texto a ser escrito no arquivo e depois escreve esse texto no arquivo\n",
    "def generate_file(file_path, file_size_bytes):\n",
    "    \"\"\"Generate a text file with given file size.\"\"\"\n",
    "    with open(file_path, 'w') as file:\n",
    "        text_to_right = generate_text(file_size_bytes)\n",
    "        file.write(text_to_right)\n",
    "\n",
    "\n",
    "# Com base no argumento passado á função, escolhe o método de criptografia a ser usado ('AES', 'SHA' ou 'RSA')\n",
    "# Para cada tamanho de aequivo associado ao tipo de criptografia escolhido, gera um arquivo de texto\n",
    "def gerar(file_type):\n",
    "    ''' Choose what encryption method to generate files '''\n",
    "    aes = [8, 64, 512, 4096, 32768, 262144, 2097152]\n",
    "    sha = [8, 64, 512, 4096, 32768, 262144, 2097152]\n",
    "    rsa = [2, 4, 8, 16, 32, 64, 128]\n",
    "\n",
    "    if file_type == \"AES\": sizes = aes \n",
    "    elif file_type == \"SHA\": sizes = sha\n",
    "    elif file_type == \"RSA\": sizes = rsa\n",
    "    else: \n",
    "        print(\"No file generated, wrong type input\")\n",
    "        return\n",
    "    \n",
    "    for size in sizes:\n",
    "        file_path = f'type_{file_type}__size_{size}.txt'\n",
    "        generate_file(file_path, size)\n",
    "        print(f\"Generated text file '{file_path}' with size {os.path.getsize(file_path)} bytes.\")"
   ]
  },
  {
   "cell_type": "markdown",
   "id": "c06d7906",
   "metadata": {},
   "source": [
    "### B. Encrypt and decrypt all these files using AES (and measure the time)"
   ]
  },
  {
   "cell_type": "markdown",
   "id": "091deca4",
   "metadata": {},
   "source": [
    "This code snippet demonstrates the encryption and decryption of files using the AES algorithm with a 256-bit key. The process involves generating random text files of various sizes for AES operations, then iterating over each file to perform encryption and decryption. It employs the Python module timeit to measure the time taken for these operations, ensuring statistically significant results.\n",
    "\n",
    "The encryption process begins by reading the file data and padding it using PKCS7. Then, it sets up the AES cipher with CBC mode and encrypts the padded data. Similarly, the decryption process decrypts the encrypted data using the AES cipher and removes padding afterward."
   ]
  },
  {
   "cell_type": "code",
   "execution_count": 69,
   "id": "8634aba3",
   "metadata": {},
   "outputs": [
    {
     "name": "stdout",
     "output_type": "stream",
     "text": [
      "Generated text file 'type_AES__size_8.txt' with size 8 bytes.\n",
      "Generated text file 'type_AES__size_64.txt' with size 64 bytes.\n",
      "Generated text file 'type_AES__size_512.txt' with size 512 bytes.\n",
      "Generated text file 'type_AES__size_4096.txt' with size 4096 bytes.\n",
      "Generated text file 'type_AES__size_32768.txt' with size 32768 bytes.\n",
      "Generated text file 'type_AES__size_262144.txt' with size 262144 bytes.\n",
      "Generated text file 'type_AES__size_2097152.txt' with size 2097152 bytes.\n"
     ]
    }
   ],
   "source": [
    "# Geração de arquivos de texto para operações AES\n",
    "gerar(\"AES\")\n",
    "       \n",
    "from cryptography.hazmat.primitives.asymmetric import rsa\n",
    "private_key = rsa.generate_private_key(\n",
    "    public_exponent=65537,\n",
    "    key_size=2048,\n",
    ")\n"
   ]
  },
  {
   "cell_type": "code",
   "execution_count": 70,
   "id": "fb55849d",
   "metadata": {},
   "outputs": [
    {
     "name": "stdout",
     "output_type": "stream",
     "text": [
      "key: b'51a8c6a73c2bb93a141d44dcaf8f25ebbd5946de6e839df661b594c5f46b40f3'\n",
      "iv: b'c224e2d5a981366053651c2cb7b35784'\n",
      "\n",
      "Starting! type_AES__size_8.txt\n",
      "Time to encrypt: 0.000093347\n",
      "Time to decrypt: 0.000054705\n",
      "Done! type_AES__size_8.txt\n",
      "\n",
      "Starting! type_AES__size_64.txt\n",
      "Time to encrypt: 0.000064255\n",
      "Time to decrypt: 0.000053713\n",
      "Done! type_AES__size_64.txt\n",
      "\n",
      "Starting! type_AES__size_512.txt\n",
      "Time to encrypt: 0.000054825\n",
      "Time to decrypt: 0.000228882\n",
      "Done! type_AES__size_512.txt\n",
      "\n",
      "Starting! type_AES__size_4096.txt\n",
      "Time to encrypt: 0.000055246\n",
      "Time to decrypt: 0.000032870\n",
      "Done! type_AES__size_4096.txt\n",
      "\n",
      "Starting! type_AES__size_32768.txt\n",
      "Time to encrypt: 0.000083235\n",
      "Time to decrypt: 0.000033170\n",
      "Done! type_AES__size_32768.txt\n",
      "\n",
      "Starting! type_AES__size_262144.txt\n",
      "Time to encrypt: 0.000467905\n",
      "Time to decrypt: 0.000126066\n",
      "Done! type_AES__size_262144.txt\n",
      "\n",
      "Starting! type_AES__size_2097152.txt\n",
      "Time to encrypt: 0.004682178\n",
      "Time to decrypt: 0.002735063\n",
      "Done! type_AES__size_2097152.txt\n",
      "\n"
     ]
    }
   ],
   "source": [
    "# Import the necessary libraries\n",
    "import os\n",
    "import timeit\n",
    "from cryptography.hazmat.primitives.ciphers import Cipher, algorithms, modes\n",
    "from cryptography.hazmat.backends import default_backend\n",
    "from cryptography.hazmat.primitives import padding\n",
    "from binascii import hexlify\n",
    "\n",
    "\n",
    "# List of files to be encrypted and decrypted\n",
    "files_AES = [\"type_AES__size_8.txt\",\"type_AES__size_64.txt\",\"type_AES__size_512.txt\",\"type_AES__size_4096.txt\",\"type_AES__size_32768.txt\",\"type_AES__size_262144.txt\",\"type_AES__size_2097152.txt\"]\n",
    "\n",
    "\n",
    "# Gera uma chave aleatória de 256 bits (32 bytes)\n",
    "# E um vetor de inicialização (IV) de 16 bytes\n",
    "# O print mostra a chave e o IV em formato hexadecimal\n",
    "key = os.urandom(32)  \n",
    "iv = os.urandom(16)\n",
    "print(f\"key: {hexlify(key)}\")\n",
    "print(f\"iv: {hexlify(iv)}\\n\")\n",
    "\n",
    "\n",
    "# Loop que itera sobre os arquivos da lista 'files_AES'\n",
    "# Para cada arquivo, ele é aberto em modo de leitura binária\n",
    "for f_id in files_AES:\n",
    "    with open(f_id, 'rb') as file:\n",
    "\n",
    "        print(f\"Starting! {f_id}\")\n",
    "\n",
    "        #setup data, \n",
    "        data = file.read()\n",
    "        #print(f\"data: {data}\")\n",
    "        padder = padding.PKCS7(algorithms.AES.block_size).padder()\n",
    "        padded_data = padder.update(data) + padder.finalize()\n",
    "\n",
    "        ##encryption setup\n",
    "        cipher = Cipher(algorithms.AES(key), modes.CBC(iv),backend=default_backend())\n",
    "\n",
    "        ##encrypting\n",
    "        encryptor = cipher.encryptor()\n",
    "\n",
    "        start_timer = timeit.default_timer() #timer\n",
    "        encrypted_data = encryptor.update(padded_data) + encryptor.finalize()\n",
    "        print(f\"Time to encrypt: {(timeit.default_timer() - start_timer):.9f}\")\n",
    "        #print(f\"encrypted data (hex): {hexlify(encrypted_data)}\")\n",
    "\n",
    "        ##decrypting\n",
    "        decryptor = cipher.decryptor()\n",
    "\n",
    "        start_timer = timeit.default_timer() #timer\n",
    "        decrypted_padded_data = decryptor.update(encrypted_data) + decryptor.finalize()\n",
    "        print(f\"Time to decrypt: {(timeit.default_timer() - start_timer):.9f}\")\n",
    "        #print(f\"decrypted padded data (hex): {hexlify(decrypted_padded_data)}\")\n",
    "\n",
    "\n",
    "        ##remove padding apos decrypt, para analisar se esta correto\n",
    "        ##nao faz parte da entrega\n",
    "        unpadder = padding.PKCS7(algorithms.AES.block_size).unpadder()\n",
    "        decrypted_data = unpadder.update(decrypted_padded_data) + unpadder.finalize()\n",
    "        #print(f\"decrypted data: {decrypted_data}\")\n",
    "\n",
    "\n",
    "\n",
    "        print(f\"Done! {f_id}\\n\")\n"
   ]
  },
  {
   "cell_type": "markdown",
   "id": "6121806b",
   "metadata": {},
   "source": [
    "### C. Encrypt and decrypt all these files using RSA (and measure the time)"
   ]
  },
  {
   "cell_type": "markdown",
   "id": "d8a630fc",
   "metadata": {},
   "source": [
    "This code snippet utilizes the Python module for RSA encryption and decryption to measure the time taken for RSA encryption and decryption operations for various file sizes. It first generates a key pair with a key size of 2048 bits. Then, it defines functions for encryption and decryption using the RSA algorithm. Following this, it generates a test message to be encrypted and measures the time taken for encryption and decryption operations. Finally, it prints out the encryption and decryption times in seconds. This process allows for the assessment of the performance of RSA encryption and decryption for different file sizes."
   ]
  },
  {
   "cell_type": "code",
   "execution_count": 71,
   "id": "c056d01c",
   "metadata": {},
   "outputs": [
    {
     "name": "stdout",
     "output_type": "stream",
     "text": [
      "\n",
      "Encryption Time: 0.0002357959747314453 seconds\n",
      "\n",
      "Decryption Time: 0.0012938976287841797 seconds\n"
     ]
    }
   ],
   "source": [
    "from cryptography.hazmat.backends import default_backend\n",
    "from cryptography.hazmat.primitives import serialization, hashes\n",
    "from cryptography.hazmat.primitives.asymmetric import rsa\n",
    "from cryptography.hazmat.primitives.asymmetric import padding\n",
    "import time\n",
    "\n",
    "def generate_keypair():\n",
    "    private_key = rsa.generate_private_key(\n",
    "        public_exponent=65537,\n",
    "        key_size=2048,\n",
    "        backend=default_backend()\n",
    "    )\n",
    "    public_key = private_key.public_key()\n",
    "    return private_key, public_key\n",
    "\n",
    "def encrypt(message, public_key):\n",
    "    ciphertext = public_key.encrypt(\n",
    "        message,\n",
    "        padding.OAEP(\n",
    "            mgf=padding.MGF1(algorithm=hashes.SHA256()),\n",
    "            algorithm=hashes.SHA256(),\n",
    "            label=None\n",
    "        )\n",
    "    )\n",
    "    return ciphertext\n",
    "\n",
    "def decrypt(ciphertext, private_key):\n",
    "    plaintext = private_key.decrypt(\n",
    "        ciphertext,\n",
    "        padding.OAEP(\n",
    "            mgf=padding.MGF1(algorithm=hashes.SHA256()),\n",
    "            algorithm=hashes.SHA256(),\n",
    "            label=None\n",
    "        )\n",
    "    )\n",
    "    return plaintext\n",
    "\n",
    "# Generate key pair\n",
    "private_key, public_key = generate_keypair()\n",
    "\n",
    "# Message to encrypt\n",
    "message = b\"Hello, this is a test message to be encrypted!\"\n",
    "\n",
    "# Measure encryption time\n",
    "start_time = time.time()\n",
    "encrypted_message = encrypt(message, public_key)\n",
    "encryption_time = time.time() - start_time\n",
    "\n",
    "# Measure decryption time\n",
    "start_time = time.time()\n",
    "decrypted_message = decrypt(encrypted_message, private_key)\n",
    "decryption_time = time.time() - start_time\n",
    "\n",
    "# Print results\n",
    "print(f\"\\nEncryption Time:\", encryption_time, \"seconds\")\n",
    "print(f\"\\nDecryption Time:\", decryption_time, \"seconds\")\n"
   ]
  },
  {
   "cell_type": "markdown",
   "id": "5a3e79a4",
   "metadata": {},
   "source": [
    "### D. Measure the time for SHA-256 hash generation"
   ]
  },
  {
   "cell_type": "markdown",
   "id": "6bb09967",
   "metadata": {},
   "source": [
    "The code provides a way to measure the time required to generate the SHA-256 hash of files of different sizes. It employs the timeit module for accuracy in measuring execution time. The sha256 function is responsible for calculating the SHA-256 hash of a text using the cryptography library. Then, the calculate_hash_time function is used to determine the execution time of the sha256 function for each given file. When iterating over the list of files, the hash time is calculated and displayed for each file individually, allowing accurate evaluation of the performance of the SHA-256 hash algorithm at different file sizes."
   ]
  },
  {
   "cell_type": "code",
   "execution_count": 73,
   "id": "285ae3c6",
   "metadata": {},
   "outputs": [
    {
     "name": "stdout",
     "output_type": "stream",
     "text": [
      "'type_SHA__size_8.txt': 0.000254439 segundos\n",
      "'type_SHA__size_64.txt': 0.000185866 segundos\n",
      "'type_SHA__size_512.txt': 0.000148328 segundos\n",
      "'type_SHA__size_4096.txt': 0.000134199 segundos\n",
      "'type_SHA__size_32768.txt': 0.000200086 segundos\n",
      "'type_SHA__size_262144.txt': 0.000572970 segundos\n",
      "'type_SHA__size_2097152.txt': 0.003828687 segundos\n"
     ]
    }
   ],
   "source": [
    "import timeit\n",
    "\n",
    "def sha256(plaintext):\n",
    "    from cryptography.hazmat.primitives import hashes\n",
    "    digest = hashes.Hash(hashes.SHA256())\n",
    "    digest.update(plaintext)\n",
    "    digest.finalize()\n",
    "\n",
    "def calculate_hash_time(file_name):\n",
    "    with open(file_name, 'rb') as file:\n",
    "        plaintext = file.read()\n",
    "        return timeit.timeit(lambda: sha256(plaintext), number=1)\n",
    "\n",
    "files_SHA = [\"type_SHA__size_8.txt\", \"type_SHA__size_64.txt\", \"type_SHA__size_512.txt\", \"type_SHA__size_4096.txt\", \"type_SHA__size_32768.txt\", \"type_SHA__size_262144.txt\", \"type_SHA__size_2097152.txt\"]\n",
    "#O código fornece uma maneira de medir o tempo necessário para gerar o hash SHA-256 de arquivos de diferentes tamanhos. Ele emprega o módulo timeit para precisão na medição do tempo de execução. A função sha256 é responsável por calcular o hash SHA-256 de um texto usando a biblioteca cryptography. Em seguida, a função calculate_hash_time é utilizada para determinar o tempo de execução da função sha256 para cada arquivo fornecido. Ao iterar sobre a lista de arquivos, o tempo de hash é calculado e exibido para cada arquivo individualmente, permitindo uma avaliação precisa do desempenho do algoritmo de hash SHA-256 em diferentes tamanhos de arquivo.\n",
    "for file_name in files_SHA:\n",
    "    hash_time = calculate_hash_time(file_name)\n",
    "    print(f\"'{file_name}': {hash_time:.9f} segundos\")\n"
   ]
  },
  {
   "cell_type": "markdown",
   "id": "c289a4c2",
   "metadata": {},
   "source": [
    "### Plots showing"
   ]
  },
  {
   "cell_type": "markdown",
   "id": "8b393e10",
   "metadata": {},
   "source": [
    "####  AES encryption/decryption times"
   ]
  },
  {
   "cell_type": "markdown",
   "id": "6adc7707",
   "metadata": {},
   "source": [
    "Neste código:\n",
    "\n",
    "Criamos duas listas, encryption_times e decryption_times, para armazenar os tempos de criptografia e descriptografia, respectivamente.\n",
    "    \n",
    "Iteramos sobre os arquivos da lista files_AES, calculando os tempos de criptografia e descriptografia para cada arquivo.\n",
    "    \n",
    "Os tempos são armazenados nas listas apropriadas e plotados em um gráfico de linha usando Matplotlib.\n",
    "    \n",
    "As marcas do eixo X são definidas como os nomes dos arquivos AES para facilitar a identificação.\n",
    "    \n",
    "Finalmente, o gráfico é exibido usando plt.show()."
   ]
  },
  {
   "cell_type": "code",
   "execution_count": 66,
   "id": "702c637b",
   "metadata": {},
   "outputs": [
    {
     "name": "stdout",
     "output_type": "stream",
     "text": [
      "Starting! type_AES__size_8.txt\n",
      "Done! type_AES__size_8.txt\n",
      "\n",
      "Starting! type_AES__size_64.txt\n",
      "Done! type_AES__size_64.txt\n",
      "\n",
      "Starting! type_AES__size_512.txt\n",
      "Done! type_AES__size_512.txt\n",
      "\n",
      "Starting! type_AES__size_4096.txt\n",
      "Done! type_AES__size_4096.txt\n",
      "\n",
      "Starting! type_AES__size_32768.txt\n",
      "Done! type_AES__size_32768.txt\n",
      "\n",
      "Starting! type_AES__size_262144.txt\n",
      "Done! type_AES__size_262144.txt\n",
      "\n",
      "Starting! type_AES__size_2097152.txt\n",
      "Done! type_AES__size_2097152.txt\n",
      "\n"
     ]
    },
    {
     "data": {
      "image/png": "[encoded data removed]",
      "text/plain": [
       "<Figure size 432x288 with 1 Axes>"
      ]
     },
     "metadata": {
      "needs_background": "light"
     },
     "output_type": "display_data"
    }
   ],
   "source": [
    "import os\n",
    "import timeit\n",
    "import matplotlib.pyplot as plt\n",
    "from cryptography.hazmat.primitives.ciphers import Cipher, algorithms, modes\n",
    "from cryptography.hazmat.backends import default_backend\n",
    "from cryptography.hazmat.primitives import padding\n",
    "from binascii import hexlify\n",
    "\n",
    "# Lista de arquivos a serem criptografados e descriptografados\n",
    "files_AES = [\"type_AES__size_8.txt\", \"type_AES__size_64.txt\", \"type_AES__size_512.txt\",\n",
    "             \"type_AES__size_4096.txt\", \"type_AES__size_32768.txt\", \"type_AES__size_262144.txt\",\n",
    "             \"type_AES__size_2097152.txt\"]\n",
    "\n",
    "# Lista para armazenar os tempos de criptografia e descriptografia\n",
    "encryption_times = []\n",
    "decryption_times = []\n",
    "\n",
    "# Gera uma chave aleatória de 256 bits (32 bytes)\n",
    "# E um vetor de inicialização (IV) de 16 bytes\n",
    "key = os.urandom(32)\n",
    "iv = os.urandom(16)\n",
    "\n",
    "# Loop que itera sobre os arquivos da lista 'files_AES'\n",
    "# Para cada arquivo, ele é aberto em modo de leitura binária\n",
    "for f_id in files_AES:\n",
    "    with open(f_id, 'rb') as file:\n",
    "        print(f\"Starting! {f_id}\")\n",
    "\n",
    "        # Setup data\n",
    "        data = file.read()\n",
    "        padder = padding.PKCS7(algorithms.AES.block_size).padder()\n",
    "        padded_data = padder.update(data) + padder.finalize()\n",
    "\n",
    "        # Encryption setup\n",
    "        cipher = Cipher(algorithms.AES(key), modes.CBC(iv), backend=default_backend())\n",
    "\n",
    "        # Encrypting\n",
    "        encryptor = cipher.encryptor()\n",
    "        start_timer = timeit.default_timer()  # Inicia o timer\n",
    "        encrypted_data = encryptor.update(padded_data) + encryptor.finalize()\n",
    "        encryption_time = (timeit.default_timer() - start_timer) * 1e6  # Converte para microssegundos\n",
    "        encryption_times.append(encryption_time)\n",
    "\n",
    "        # Decrypting\n",
    "        decryptor = cipher.decryptor()\n",
    "        start_timer = timeit.default_timer()  # Inicia o timer\n",
    "        decrypted_padded_data = decryptor.update(encrypted_data) + decryptor.finalize()\n",
    "        decryption_time = (timeit.default_timer() - start_timer) * 1e6  # Converte para microssegundos\n",
    "        decryption_times.append(decryption_time)\n",
    "\n",
    "        print(f\"Done! {f_id}\\n\")\n",
    "\n",
    "# Plotar os tempos de criptografia e descriptografia\n",
    "plt.plot(encryption_times, label='Encryption')\n",
    "plt.plot(decryption_times, label='Decryption')\n",
    "plt.xlabel('File Index')\n",
    "plt.ylabel('Time (microseconds)')\n",
    "plt.title('AES Encryption/Decryption Times')\n",
    "plt.legend()\n",
    "plt.xticks(range(len(files_AES)), files_AES, rotation=45)\n",
    "plt.tight_layout()\n",
    "plt.show()\n"
   ]
  },
  {
   "cell_type": "markdown",
   "id": "73a1ae59",
   "metadata": {},
   "source": [
    "#### RSA encryption times and RSA decryption time "
   ]
  },
  {
   "cell_type": "code",
   "execution_count": 67,
   "id": "165284e1",
   "metadata": {},
   "outputs": [
    {
     "data": {
      "image/png": "[encoded data removed]",
      "text/plain": [
       "<Figure size 432x288 with 1 Axes>"
      ]
     },
     "metadata": {
      "needs_background": "light"
     },
     "output_type": "display_data"
    },
    {
     "data": {
      "image/png": "[encoded data removed]",
      "text/plain": [
       "<Figure size 432x288 with 1 Axes>"
      ]
     },
     "metadata": {
      "needs_background": "light"
     },
     "output_type": "display_data"
    }
   ],
   "source": [
    "import time\n",
    "import matplotlib.pyplot as plt\n",
    "from cryptography.hazmat.backends import default_backend\n",
    "from cryptography.hazmat.primitives import serialization, hashes\n",
    "from cryptography.hazmat.primitives.asymmetric import rsa\n",
    "from cryptography.hazmat.primitives.asymmetric import padding\n",
    "\n",
    "def generate_keypair():\n",
    "    private_key = rsa.generate_private_key(\n",
    "        public_exponent=65537,\n",
    "        key_size=2048,\n",
    "        backend=default_backend()\n",
    "    )\n",
    "    public_key = private_key.public_key()\n",
    "    return private_key, public_key\n",
    "\n",
    "def encrypt(message, public_key):\n",
    "    start_time = time.time()\n",
    "    ciphertext = public_key.encrypt(\n",
    "        message,\n",
    "        padding.OAEP(\n",
    "            mgf=padding.MGF1(algorithm=hashes.SHA256()),\n",
    "            algorithm=hashes.SHA256(),\n",
    "            label=None\n",
    "        )\n",
    "    )\n",
    "    encryption_time = (time.time() - start_time) * 1e6  # Convertendo para microssegundos\n",
    "    return ciphertext, encryption_time\n",
    "\n",
    "def decrypt(ciphertext, private_key):\n",
    "    start_time = time.time()\n",
    "    plaintext = private_key.decrypt(\n",
    "        ciphertext,\n",
    "        padding.OAEP(\n",
    "            mgf=padding.MGF1(algorithm=hashes.SHA256()),\n",
    "            algorithm=hashes.SHA256(),\n",
    "            label=None\n",
    "        )\n",
    "    )\n",
    "    decryption_time = (time.time() - start_time) * 1e6  # Convertendo para microssegundos\n",
    "    return decryption_time\n",
    "\n",
    "# Gerar par de chaves\n",
    "private_key, public_key = generate_keypair()\n",
    "\n",
    "# Mensagem para criptografar\n",
    "message = b\"Hello, this is a test message to be encrypted!\"\n",
    "\n",
    "# Lista para armazenar os tempos de criptografia e descriptografia\n",
    "encryption_times = []\n",
    "decryption_times = []\n",
    "\n",
    "# Realizar criptografia e descriptografia para a mensagem\n",
    "for _ in range(7):\n",
    "    ciphertext, encrypted_time = encrypt(message, public_key)\n",
    "    decryption_time = decrypt(ciphertext, private_key)\n",
    "\n",
    "    # Armazenar os tempos\n",
    "    encryption_times.append(encrypted_time)\n",
    "    decryption_times.append(decryption_time)\n",
    "\n",
    "# Plotar os tempos de criptografia\n",
    "plt.plot(encryption_times, label='Encryption')\n",
    "plt.xlabel('File Index')\n",
    "plt.ylabel('Time (microseconds)')\n",
    "plt.title('RSA Encryption Times')\n",
    "plt.legend()\n",
    "plt.xticks(range(7), ['8', '64', '512', '4096', '32768', '262144', '2097152'])\n",
    "plt.tight_layout()\n",
    "plt.show()\n",
    "\n",
    "# Plotar os tempos de descriptografia\n",
    "plt.plot(decryption_times, label='Decryption')\n",
    "plt.xlabel('File Index')\n",
    "plt.ylabel('Time (microseconds)')\n",
    "plt.title('RSA Decryption Times')\n",
    "plt.legend()\n",
    "plt.xticks(range(7), ['8', '64', '512', '4096', '32768', '262144', '2097152'])\n",
    "plt.tight_layout()\n",
    "plt.show()\n"
   ]
  },
  {
   "cell_type": "markdown",
   "id": "e21280e0",
   "metadata": {},
   "source": [
    "#### SHA digests generation times"
   ]
  },
  {
   "cell_type": "code",
   "execution_count": 1,
   "id": "fb3a1ac7",
   "metadata": {},
   "outputs": [
    {
     "data": {
      "image/png": "[encoded data removed]",
      "text/plain": [
       "<Figure size 432x288 with 1 Axes>"
      ]
     },
     "metadata": {
      "needs_background": "light"
     },
     "output_type": "display_data"
    }
   ],
   "source": [
    "import matplotlib.pyplot as plt\n",
    "import timeit\n",
    "\n",
    "def sha256(plaintext):\n",
    "    from cryptography.hazmat.primitives import hashes\n",
    "    digest = hashes.Hash(hashes.SHA256())\n",
    "    digest.update(plaintext)\n",
    "    digest.finalize()\n",
    "\n",
    "def calculate_hash_time(file_name):\n",
    "    with open(file_name, 'rb') as file:\n",
    "        plaintext = file.read()\n",
    "        return timeit.timeit(lambda: sha256(plaintext), number=1) * 1e6  # Convertendo para microssegundos\n",
    "\n",
    "files_SHA = [\"type_SHA__size_8.txt\", \"type_SHA__size_64.txt\", \"type_SHA__size_512.txt\",\n",
    "             \"type_SHA__size_4096.txt\", \"type_SHA__size_32768.txt\", \"type_SHA__size_262144.txt\",\n",
    "             \"type_SHA__size_2097152.txt\"]\n",
    "\n",
    "hash_times = []\n",
    "for file_name in files_SHA:\n",
    "    hash_time = calculate_hash_time(file_name)\n",
    "    hash_times.append(hash_time)\n",
    "\n",
    "# Plotar os tempos de geração de hashes SHA-256\n",
    "plt.plot(hash_times, marker='o')\n",
    "plt.xlabel('File Index')\n",
    "plt.ylabel('Time (microseconds)')\n",
    "plt.title('SHA-256 Digest Generation Times')\n",
    "plt.xticks(range(len(files_SHA)), files_SHA, rotation=45)\n",
    "plt.tight_layout()\n",
    "plt.show()\n",
    "\n"
   ]
  },
  {
   "cell_type": "markdown",
   "id": "477b8cf2",
   "metadata": {},
   "source": [
    "### Comparison between AES ecryption and RSA encryption"
   ]
  },
  {
   "cell_type": "code",
   "execution_count": null,
   "id": "d493f679",
   "metadata": {},
   "outputs": [],
   "source": []
  }
 ],
 "metadata": {
  "kernelspec": {
   "display_name": "Python 3 (ipykernel)",
   "language": "python",
   "name": "python3"
  },
  "language_info": {
   "codemirror_mode": {
    "name": "ipython",
    "version": 3
   },
   "file_extension": ".py",
   "mimetype": "text/x-python",
   "name": "python",
   "nbconvert_exporter": "python",
   "pygments_lexer": "ipython3",
   "version": "3.10.12"
  }
 },
 "nbformat": 4,
 "nbformat_minor": 5
}
